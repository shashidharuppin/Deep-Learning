{
 "cells": [
  {
   "cell_type": "code",
   "execution_count": null,
   "metadata": {},
   "outputs": [],
   "source": [
    "#Import necessary libraries\n",
    "from scipy.spatial import distance\n",
    "from imutils import face_utils\n",
    "import numpy as np\n",
    "import dlib\n",
    "import pygame #For playing sound\n",
    "import time\n",
    "import cv2"
   ]
  },
  {
   "cell_type": "code",
   "execution_count": null,
   "metadata": {},
   "outputs": [],
   "source": [
    "#Initialize Pygame and load music\n",
    "pygame.mixer.init()\n",
    "pygame.mixer.music.load('audio/alert.wav')"
   ]
  },
  {
   "cell_type": "code",
   "execution_count": null,
   "metadata": {},
   "outputs": [],
   "source": [
    "#Minimum threshold of eye aspect ratio below which alarm is triggerd\n",
    "EYE_ASPECT_RATIO_THRESHOLD = 0.3\n",
    "\n",
    "#Minimum consecutive frames for which eye ratio is below threshold for alarm to be triggered\n",
    "EYE_ASPECT_RATIO_CONSEC_FRAMES = 50\n",
    "\n",
    "#COunts no. of consecutuve frames below threshold value\n",
    "COUNTER = 0"
   ]
  },
  {
   "cell_type": "code",
   "execution_count": null,
   "metadata": {},
   "outputs": [],
   "source": [
    "#Load face cascade which will be used to draw a rectangle around detected faces.\n",
    "face_cascade = cv2.CascadeClassifier(cv2.data.haarcascades + \"haarcascade_frontalface_default.xml\")\n",
    "\n",
    "#This function calculates and return eye aspect ratio\n",
    "def eye_aspect_ratio(eye):\n",
    "    A = distance.euclidean(eye[1], eye[5])\n",
    "    B = distance.euclidean(eye[2], eye[4])\n",
    "    C = distance.euclidean(eye[0], eye[3])\n",
    "\n",
    "    ear = (A+B) / (2*C)\n",
    "    return ear"
   ]
  },
  {
   "cell_type": "code",
   "execution_count": null,
   "metadata": {},
   "outputs": [],
   "source": [
    "#Load face detector and predictor, uses dlib shape predictor file\n",
    "detector = dlib.get_frontal_face_detector()\n",
    "predictor = dlib.shape_predictor('shape_predictor_68_face_landmarks.dat')"
   ]
  },
  {
   "cell_type": "code",
   "execution_count": null,
   "metadata": {},
   "outputs": [],
   "source": [
    "#Extract indexes of facial landmarks for the left and right eye\n",
    "(lStart, lEnd) = face_utils.FACIAL_LANDMARKS_IDXS['left_eye']\n",
    "(rStart, rEnd) = face_utils.FACIAL_LANDMARKS_IDXS['right_eye']"
   ]
  },
  {
   "cell_type": "code",
   "execution_count": null,
   "metadata": {},
   "outputs": [],
   "source": [
    "#Start webcam video capture\n",
    "video_capture = cv2.VideoCapture(0)\n",
    "\n",
    "#Give some time for camera to initialize(not required)\n",
    "time.sleep(2)\n",
    "\n",
    "while(True):\n",
    "    #Read each frame and flip it, and convert to grayscale\n",
    "    ret, frame = video_capture.read()\n",
    "    frame = cv2.flip(frame,1)\n",
    "    gray = cv2.cvtColor(frame, cv2.COLOR_BGR2GRAY)\n",
    "\n",
    "    #Detect facial points through detector function\n",
    "    faces = detector(gray, 0)\n",
    "\n",
    "    #Detect faces through haarcascade_frontalface_default.xml\n",
    "    face_rectangle = face_cascade.detectMultiScale(gray, 1.3, 5)\n",
    "\n",
    "    #Draw rectangle around each face detected\n",
    "    for (x,y,w,h) in face_rectangle:\n",
    "        cv2.rectangle(frame,(x,y),(x+w,y+h),(255,0,0),2)\n",
    "\n",
    "    #Detect facial points\n",
    "    for face in faces:\n",
    "\n",
    "        shape = predictor(gray, face)\n",
    "        shape = face_utils.shape_to_np(shape)\n",
    "\n",
    "        #Get array of coordinates of leftEye and rightEye\n",
    "        leftEye = shape[lStart:lEnd]\n",
    "        rightEye = shape[rStart:rEnd]\n",
    "\n",
    "        #Calculate aspect ratio of both eyes\n",
    "        leftEyeAspectRatio = eye_aspect_ratio(leftEye)\n",
    "        rightEyeAspectRatio = eye_aspect_ratio(rightEye)\n",
    "\n",
    "        eyeAspectRatio = (leftEyeAspectRatio + rightEyeAspectRatio) / 2\n",
    "\n",
    "        #Use hull to remove convex contour discrepencies and draw eye shape around eyes\n",
    "        leftEyeHull = cv2.convexHull(leftEye)\n",
    "        rightEyeHull = cv2.convexHull(rightEye)\n",
    "        cv2.drawContours(frame, [leftEyeHull], -1, (0, 255, 0), 1)\n",
    "        cv2.drawContours(frame, [rightEyeHull], -1, (0, 255, 0), 1)\n",
    "\n",
    "        #Detect if eye aspect ratio is less than threshold\n",
    "        if(eyeAspectRatio < EYE_ASPECT_RATIO_THRESHOLD):\n",
    "            COUNTER += 1\n",
    "            #If no. of frames is greater than threshold frames,\n",
    "            if COUNTER >= EYE_ASPECT_RATIO_CONSEC_FRAMES:\n",
    "                pygame.mixer.music.play(-1)\n",
    "                cv2.putText(frame, \"You are Drowsy\", (150,200), cv2.FONT_HERSHEY_SIMPLEX, 1.5, (0,0,255), 2)\n",
    "        else:\n",
    "            pygame.mixer.music.stop()\n",
    "            COUNTER = 0\n",
    "\n",
    "    #Show video feed\n",
    "    cv2.imshow('Video', frame)\n",
    "    if(cv2.waitKey(1) & 0xFF == ord('q')):\n",
    "        break\n",
    "\n",
    "#Finally when video capture is over, release the video capture and destroyAllWindows\n",
    "video_capture.release()\n",
    "cv2.destroyAllWindows()"
   ]
  }
 ],
 "metadata": {
  "kernelspec": {
   "display_name": "Python 3",
   "language": "python",
   "name": "python3"
  },
  "language_info": {
   "codemirror_mode": {
    "name": "ipython",
    "version": 3
   },
   "file_extension": ".py",
   "mimetype": "text/x-python",
   "name": "python",
   "nbconvert_exporter": "python",
   "pygments_lexer": "ipython3",
   "version": "3.7.4"
  }
 },
 "nbformat": 4,
 "nbformat_minor": 2
}
